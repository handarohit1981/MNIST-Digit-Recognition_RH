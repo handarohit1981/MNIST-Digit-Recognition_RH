{
 "cells": [
  {
   "cell_type": "markdown",
   "metadata": {
    "id": "nQlxyaOpUm0C"
   },
   "source": [
    "# MNIST Digital Recognition Project Notebook\n",
    "05 Feb 2022\n",
    "\n",
    "### BY SURBHI DHIR"
   ]
  },
  {
   "cell_type": "markdown",
   "metadata": {
    "id": "Bt61vhE-nmxu"
   },
   "source": [
    "# Overview\n",
    "\n",
    "In this notebook, we will train models to recognize digits from a dataset of hand-written digits called MNIST (\"Modified National Institute of Standards and Technology\") which has been used for benchmarking image classifiers. One potential business application of algorithmic identification of handwritten writing is the automatic digitization of handwritten documents. A model which can recognize human handwriting could be used to create a program that takes handwritten documents as input and returns a digitized document such as a PDF as output. \n",
    "\n",
    "There are many applications for this technology, such as converting student handwriting on exams to a digital format so that answers can be more easily read and graded by the proctor. \n",
    "\n",
    "* MNIST is known as a \"hello world\" dataset because it's very basic. \n",
    "* Each image is 28 by 28 pixels, represented in the data by 784 columns (one for each pixel) holding a value of 0 to 255 to represent darkness of the pixel, with higher values being darker.\n",
    "* The dataset has 60,000 data points for the training set and 10,000 for the testing set. We will execute three models (SVM, and CNN) on this dataset and see which one performs the \"best.\" \n",
    "* To determine this, we will measure the accuracy of the model, or the number of digits it correctly identified over the total number of digits in the dataset.\n",
    "\n",
    "\n",
    "\n",
    "### SVM:\n",
    "Support vector machines (SVMs) are particular linear classifiers which are based on the margin maximization principle. They perform structural risk minimization, which improves the complexity of the classifier with the aim of achieving excellent generalization performance. The SVM accomplishes the classification task by constructing, in a higher dimensional space, the hyperplane that optimally separates the data into two categories.\n",
    "\n",
    "### CNN:\n",
    "Convolutional Neural Networks (CNN) are feed forward artificial neural networks. They are highly acclaimed for their performance in computer vision tasks. CNN was based on the visual cortex found in animals. CNN is made up of an input layer, hidden layers, and an output layer. The hidden layers include layers that perform convolutions. A convolution kernal slides along the input layer which creates a feature map. This feature map is then passed into the next layer. There are also pooling layers to reduce the dimensions of the data along the network.\n",
    "\n",
    "\n",
    "### Sources & References\n",
    "\n",
    "\n",
    "* https://www.askpython.com/python/examples/load-and-plot-mnist-dataset-in-python\n",
    "\n",
    "* https://link.springer.com/referenceworkentry/10.1007%2F978-0-387-73003-5_299\n",
    "\n",
    "* https://analyticsindiamag.com/convolutional-neural-network-image-classification-overview/\n",
    "\n",
    "* https://en.wikipedia.org/wiki/Convolutional_neural_network\n",
    "\n",
    "* https://androidkt.com/get-the-roc-curve-and-auc-for-keras-model/"
   ]
  },
  {
   "cell_type": "markdown",
   "metadata": {
    "id": "oBnFqtjk2Vss"
   },
   "source": [
    "#  Import the necessary libraries"
   ]
  },
  {
   "cell_type": "code",
   "execution_count": null,
   "metadata": {
    "colab": {
     "base_uri": "https://localhost:8080/"
    },
    "id": "9IoRxXG22cU3",
    "outputId": "4bb16ca6-adee-4e36-cdca-5e9b58b4a76b"
   },
   "outputs": [
    {
     "name": "stdout",
     "output_type": "stream",
     "text": [
      "Using matplotlib backend: agg\n"
     ]
    }
   ],
   "source": [
    "import pandas as pd\n",
    "import numpy as np\n",
    "\n",
    "from keras.models import Sequential\n",
    "\n",
    "# Importing the mnist dataset \n",
    "from keras.datasets import mnist\n",
    "from keras.layers import Dense, Conv2D, MaxPooling2D, Dropout, Flatten\n",
    "from tensorflow.keras.utils import to_categorical\n",
    "\n",
    "from matplotlib import pyplot as plt\n",
    "%matplotlib"
   ]
  },
  {
   "cell_type": "markdown",
   "metadata": {
    "id": "H4LFqyJzUfK6"
   },
   "source": [
    "# Data Split & Exploration"
   ]
  },
  {
   "cell_type": "code",
   "execution_count": null,
   "metadata": {
    "id": "NHC6FQbVpdqp"
   },
   "outputs": [],
   "source": [
    "(train_X, train_y), (test_X, test_y) = mnist.load_data()"
   ]
  },
  {
   "cell_type": "code",
   "execution_count": null,
   "metadata": {
    "colab": {
     "base_uri": "https://localhost:8080/"
    },
    "id": "XPszyCz_uPN5",
    "outputId": "a0b75d08-01ee-452e-a398-81630224b6d6"
   },
   "outputs": [
    {
     "name": "stdout",
     "output_type": "stream",
     "text": [
      "\n",
      "---\n",
      "X Train Data\n",
      "---\n",
      "\n",
      "[[[0 0 0 ... 0 0 0]\n",
      "  [0 0 0 ... 0 0 0]\n",
      "  [0 0 0 ... 0 0 0]\n",
      "  ...\n",
      "  [0 0 0 ... 0 0 0]\n",
      "  [0 0 0 ... 0 0 0]\n",
      "  [0 0 0 ... 0 0 0]]\n",
      "\n",
      " [[0 0 0 ... 0 0 0]\n",
      "  [0 0 0 ... 0 0 0]\n",
      "  [0 0 0 ... 0 0 0]\n",
      "  ...\n",
      "  [0 0 0 ... 0 0 0]\n",
      "  [0 0 0 ... 0 0 0]\n",
      "  [0 0 0 ... 0 0 0]]\n",
      "\n",
      " [[0 0 0 ... 0 0 0]\n",
      "  [0 0 0 ... 0 0 0]\n",
      "  [0 0 0 ... 0 0 0]\n",
      "  ...\n",
      "  [0 0 0 ... 0 0 0]\n",
      "  [0 0 0 ... 0 0 0]\n",
      "  [0 0 0 ... 0 0 0]]\n",
      "\n",
      " ...\n",
      "\n",
      " [[0 0 0 ... 0 0 0]\n",
      "  [0 0 0 ... 0 0 0]\n",
      "  [0 0 0 ... 0 0 0]\n",
      "  ...\n",
      "  [0 0 0 ... 0 0 0]\n",
      "  [0 0 0 ... 0 0 0]\n",
      "  [0 0 0 ... 0 0 0]]\n",
      "\n",
      " [[0 0 0 ... 0 0 0]\n",
      "  [0 0 0 ... 0 0 0]\n",
      "  [0 0 0 ... 0 0 0]\n",
      "  ...\n",
      "  [0 0 0 ... 0 0 0]\n",
      "  [0 0 0 ... 0 0 0]\n",
      "  [0 0 0 ... 0 0 0]]\n",
      "\n",
      " [[0 0 0 ... 0 0 0]\n",
      "  [0 0 0 ... 0 0 0]\n",
      "  [0 0 0 ... 0 0 0]\n",
      "  ...\n",
      "  [0 0 0 ... 0 0 0]\n",
      "  [0 0 0 ... 0 0 0]\n",
      "  [0 0 0 ... 0 0 0]]]\n",
      "\n",
      "---\n",
      "Y Train Data\n",
      "---\n",
      "\n",
      "[5 0 4 ... 5 6 8]\n",
      "\n",
      "---\n",
      "X Test Data\n",
      "---\n",
      "\n",
      "[[[0 0 0 ... 0 0 0]\n",
      "  [0 0 0 ... 0 0 0]\n",
      "  [0 0 0 ... 0 0 0]\n",
      "  ...\n",
      "  [0 0 0 ... 0 0 0]\n",
      "  [0 0 0 ... 0 0 0]\n",
      "  [0 0 0 ... 0 0 0]]\n",
      "\n",
      " [[0 0 0 ... 0 0 0]\n",
      "  [0 0 0 ... 0 0 0]\n",
      "  [0 0 0 ... 0 0 0]\n",
      "  ...\n",
      "  [0 0 0 ... 0 0 0]\n",
      "  [0 0 0 ... 0 0 0]\n",
      "  [0 0 0 ... 0 0 0]]\n",
      "\n",
      " [[0 0 0 ... 0 0 0]\n",
      "  [0 0 0 ... 0 0 0]\n",
      "  [0 0 0 ... 0 0 0]\n",
      "  ...\n",
      "  [0 0 0 ... 0 0 0]\n",
      "  [0 0 0 ... 0 0 0]\n",
      "  [0 0 0 ... 0 0 0]]\n",
      "\n",
      " ...\n",
      "\n",
      " [[0 0 0 ... 0 0 0]\n",
      "  [0 0 0 ... 0 0 0]\n",
      "  [0 0 0 ... 0 0 0]\n",
      "  ...\n",
      "  [0 0 0 ... 0 0 0]\n",
      "  [0 0 0 ... 0 0 0]\n",
      "  [0 0 0 ... 0 0 0]]\n",
      "\n",
      " [[0 0 0 ... 0 0 0]\n",
      "  [0 0 0 ... 0 0 0]\n",
      "  [0 0 0 ... 0 0 0]\n",
      "  ...\n",
      "  [0 0 0 ... 0 0 0]\n",
      "  [0 0 0 ... 0 0 0]\n",
      "  [0 0 0 ... 0 0 0]]\n",
      "\n",
      " [[0 0 0 ... 0 0 0]\n",
      "  [0 0 0 ... 0 0 0]\n",
      "  [0 0 0 ... 0 0 0]\n",
      "  ...\n",
      "  [0 0 0 ... 0 0 0]\n",
      "  [0 0 0 ... 0 0 0]\n",
      "  [0 0 0 ... 0 0 0]]]\n",
      "\n",
      "---\n",
      "Y Test Data\n",
      "---\n",
      "\n",
      "[7 2 1 ... 4 5 6]\n"
     ]
    }
   ],
   "source": [
    "print(\"\\n---\\nX Train Data\\n---\\n\")\n",
    "print(train_X)\n",
    "print(\"\\n---\\nY Train Data\\n---\\n\")\n",
    "print(train_y)\n",
    "print(\"\\n---\\nX Test Data\\n---\\n\")\n",
    "print(test_X)\n",
    "print(\"\\n---\\nY Test Data\\n---\\n\")\n",
    "print(test_y)"
   ]
  },
  {
   "cell_type": "markdown",
   "metadata": {
    "id": "RyTGteavp0Bg"
   },
   "source": [
    "# Exploratory Data Analysis"
   ]
  },
  {
   "cell_type": "code",
   "execution_count": null,
   "metadata": {
    "colab": {
     "base_uri": "https://localhost:8080/"
    },
    "id": "w0lnG_8juZRT",
    "outputId": "dac74245-ccb3-4f70-9080-054dd0f133b1"
   },
   "outputs": [
    {
     "name": "stdout",
     "output_type": "stream",
     "text": [
      "---\n",
      "X Train Data Shape\n",
      "---\n",
      "(60000, 28, 28)\n",
      "---\n",
      "Y Train Data Shape\n",
      "---\n",
      "(60000,)\n",
      "---\n",
      "X Test Data Shape\n",
      "---\n",
      "(10000, 28, 28)\n",
      "---\n",
      "Y Test Data Shape\n",
      "---\n",
      "(10000,)\n"
     ]
    }
   ],
   "source": [
    "print(\"---\\nX Train Data Shape\\n---\")\n",
    "print(train_X.shape)\n",
    "print(\"---\\nY Train Data Shape\\n---\")\n",
    "print(train_y.shape)\n",
    "print(\"---\\nX Test Data Shape\\n---\")\n",
    "print(test_X.shape)\n",
    "print(\"---\\nY Test Data Shape\\n---\")\n",
    "print(test_y.shape)"
   ]
  },
  {
   "cell_type": "markdown",
   "metadata": {
    "id": "GZxMVJdHwj3G"
   },
   "source": [
    "Inferences:\n",
    "* There are 60,000 train images with 28x28 pixels (train_X) and 60,000 resulting digits after the images have been classified (train_Y). \n",
    "* Then there are 10,000 images to compare our models against. Now let's check that our pixel values are within an expected range."
   ]
  },
  {
   "cell_type": "code",
   "execution_count": null,
   "metadata": {
    "colab": {
     "base_uri": "https://localhost:8080/"
    },
    "id": "KM4310GvugL9",
    "outputId": "376d1957-e7d4-47e9-b998-2c41dd659336"
   },
   "outputs": [
    {
     "name": "stdout",
     "output_type": "stream",
     "text": [
      "The max and min of the train_X data are: 255 and 0\n",
      "The max and min of the train_y data are: 9 and 0\n",
      "The max and min of the test_X data are: 255 and 0\n",
      "The max and min of the test_y data are: 9 and 0\n"
     ]
    }
   ],
   "source": [
    "print(\"The max and min of the train_X data are: \" + str(train_X.max()) + \" and \" + str(train_X.min()))\n",
    "print(\"The max and min of the train_y data are: \" + str(train_y.max()) + \" and \" + str(train_y.min()))\n",
    "print(\"The max and min of the test_X data are: \" + str(test_X.max()) + \" and \" + str(train_X.min()))\n",
    "print(\"The max and min of the test_y data are: \" + str(test_y.max()) + \" and \" + str(train_y.min()))"
   ]
  },
  {
   "cell_type": "markdown",
   "metadata": {
    "id": "VT_CWiZzzPYS"
   },
   "source": [
    "Inferences: \n",
    "* Each of the feature includes 0 to 255 pixels, while the target includes numbers from 0 to 9. Therefore our values are within the expected bounds."
   ]
  },
  {
   "cell_type": "markdown",
   "metadata": {},
   "source": [
    "# Data Visualization"
   ]
  },
  {
   "cell_type": "code",
   "execution_count": null,
   "metadata": {
    "colab": {
     "base_uri": "https://localhost:8080/",
     "height": 268
    },
    "id": "5R6kl36Lp2Yo",
    "outputId": "326ebbf3-45c6-4764-a001-a93db2d03f8c"
   },
   "outputs": [
    {
     "data": {
      "image/png": "[encoded data removed]",
      "text/plain": [
       "<Figure size 432x288 with 9 Axes>"
      ]
     },
     "metadata": {
      "needs_background": "light"
     },
     "output_type": "display_data"
    }
   ],
   "source": [
    "for i in range(9):\n",
    " plt.subplot(3,3,i+1)\n",
    " plt.imshow(train_X[i], cmap=plt.get_cmap('gray'))\n"
   ]
  },
  {
   "cell_type": "markdown",
   "metadata": {
    "id": "gCdtT5Ezzc9x"
   },
   "source": [
    "Inferences: \n",
    "* Above are examples of what an image in our dataset looks like. Now let's flatten the pixel data arrays so that we can run our models on them:"
   ]
  },
  {
   "cell_type": "markdown",
   "metadata": {},
   "source": [
    "# Flattening dataset arrays"
   ]
  },
  {
   "cell_type": "code",
   "execution_count": null,
   "metadata": {
    "id": "gViikeqAAEUj"
   },
   "outputs": [],
   "source": [
    "train_X_flat = []\n",
    "for i in range(len(train_X)):\n",
    "  train_X_flat.append(train_X[i].flatten())"
   ]
  },
  {
   "cell_type": "code",
   "execution_count": null,
   "metadata": {
    "id": "6Ye5YtyNBuvV"
   },
   "outputs": [],
   "source": [
    "test_X_flat = []\n",
    "for i in range(len(test_X)):\n",
    "  test_X_flat.append(test_X[i].flatten())"
   ]
  },
  {
   "cell_type": "markdown",
   "metadata": {
    "id": "aFW_qMzIFYLm"
   },
   "source": [
    "# Model Selection\n",
    "\n"
   ]
  },
  {
   "cell_type": "markdown",
   "metadata": {},
   "source": [
    "We will comparing two classification models: \n",
    "\n",
    "* Convolutional Neural Networks (CNN),\n",
    "* Support Vector Machines (SVM)\n",
    "\n",
    "With the data that we gather, we will measure their accuracy and determine the best performing model to be the one with the greatest accuracy."
   ]
  },
  {
   "cell_type": "markdown",
   "metadata": {
    "id": "Y4K9ZefOzrSy"
   },
   "source": [
    "## Support Vector Machines\n"
   ]
  },
  {
   "cell_type": "code",
   "execution_count": null,
   "metadata": {
    "id": "RkCFjvpz373Y"
   },
   "outputs": [],
   "source": [
    "#Import svm model\n",
    "from sklearn import svm\n",
    "\n",
    "#Scale our data\n",
    "from sklearn import preprocessing\n",
    "train_X_scaled = preprocessing.scale(train_X_flat)\n",
    "test_X_scaled = preprocessing.scale(test_X_flat)\n",
    "\n",
    "#Create a svm Classifier\n",
    "clf = svm.SVC(kernel='linear', C=0.1) # Linear Kernel\n",
    "\n",
    "#Train the model using the training sets\n",
    "clf.fit(train_X_scaled, train_y)\n",
    "\n",
    "#Predict the response for test dataset\n",
    "pred_y = clf.predict(test_X_scaled)"
   ]
  },
  {
   "cell_type": "code",
   "execution_count": null,
   "metadata": {
    "colab": {
     "base_uri": "https://localhost:8080/"
    },
    "id": "HwnOgsXKB_iQ",
    "outputId": "9955567b-3cca-4eca-bac1-3790c0492d34"
   },
   "outputs": [
    {
     "name": "stdout",
     "output_type": "stream",
     "text": [
      "Accuracy: 0.9376\n",
      "Precision Score :  0.9372256008557274\n",
      "Recall Score :  0.9365448727601307\n"
     ]
    }
   ],
   "source": [
    "#Import scikit-learn metrics module for accuracy calculation\n",
    "from sklearn import metrics\n",
    "\n",
    "# Model Accuracy: how often is the classifier correct?\n",
    "print(\"Accuracy:\",metrics.accuracy_score(test_y, pred_y))\n",
    "\n",
    "# Model Precision: what percentage of positive tuples are labeled as such?\n",
    "print(\"Precision Score : \", metrics.precision_score(test_y, pred_y, average='macro'))\n",
    "\n",
    "# Model Recall: what percentage of positive tuples are labelled as such?\n",
    "print(\"Recall Score : \", metrics.recall_score(test_y, pred_y, average='macro'))"
   ]
  },
  {
   "cell_type": "markdown",
   "metadata": {},
   "source": [
    "Inferences:\n",
    "\n",
    "* Test Accuracy of 93.7% can be achieved using the SVM model."
   ]
  },
  {
   "cell_type": "markdown",
   "metadata": {
    "id": "wufgia0Hz4xU"
   },
   "source": [
    "## Convolutional Neural Network\n"
   ]
  },
  {
   "cell_type": "markdown",
   "metadata": {},
   "source": [
    "* The input layer into the Convolutional Neural Network that we created uses the train_X data.\n",
    "* The train_X data and test_X data represent the data of the images.\n",
    "* They have been converted into numpy arrays in order to be used to create the model.\n",
    "* train_Y represents all the actual number values of the images from the train part of the dataset.\n"
   ]
  },
  {
   "cell_type": "markdown",
   "metadata": {},
   "source": [
    "### One hot encode the labels for train and test data"
   ]
  },
  {
   "cell_type": "code",
   "execution_count": null,
   "metadata": {
    "id": "RdHSLVKm57e4"
   },
   "outputs": [],
   "source": [
    "# categorizing the data into the 10 numbers in the dataset\n",
    "train_y_matrix = to_categorical(y = train_y, num_classes = 10)"
   ]
  },
  {
   "cell_type": "markdown",
   "metadata": {
    "id": "NKXBKY6g9_Kl"
   },
   "source": [
    "Inferences: \n",
    "* In this step, we have utilized the to_categorical to convert the train_y into a one-hot encoded matrix. \n",
    "* This converts the train_y array from ``[5, 0, 4, ..., 5, 6, 8]`` format to ``[0., 1., 0., 0., 0., 0., 0., 0., 0., 0.]`` format. The one in this array represents that the first row of train_y represents the number 1."
   ]
  },
  {
   "cell_type": "code",
   "execution_count": null,
   "metadata": {
    "colab": {
     "base_uri": "https://localhost:8080/"
    },
    "id": "iUCOmRLh_G5A",
    "outputId": "3078d1bc-d06c-4608-ff13-0588753d1317"
   },
   "outputs": [
    {
     "data": {
      "text/plain": [
       "(28, 28, 1)"
      ]
     },
     "execution_count": 5,
     "metadata": {},
     "output_type": "execute_result"
    }
   ],
   "source": [
    "# creating shape variable (removing the first index since that is not actually part of the shape, it's actually the number of images in the training dataset)\n",
    "inputShape = np.shape(train_X)\n",
    "inputShape = (inputShape[1], inputShape[2], 1)\n",
    "inputShape"
   ]
  },
  {
   "cell_type": "markdown",
   "metadata": {
    "id": "Q3KNS3EtCKYw"
   },
   "source": [
    "Inferences: \n",
    "* Creating the shape variable of the train_X variable. We have removed the first index, since it is simply a count of the number of images in the training dataset."
   ]
  },
  {
   "cell_type": "markdown",
   "metadata": {},
   "source": [
    "### Model Architecture Definition"
   ]
  },
  {
   "cell_type": "code",
   "execution_count": null,
   "metadata": {
    "id": "6VLetKu7_xUs"
   },
   "outputs": [],
   "source": [
    "# creating the actual model using sequential\n",
    "model = Sequential()\n",
    "\n",
    "model.add(Conv2D(32, kernel_size = (5,5), activation = 'relu', input_shape = inputShape)) # convolution layer 1\n",
    "model.add(MaxPooling2D(pool_size = (2,2))) # pooling the data\n",
    "model.add(Conv2D(64, kernel_size = (5,5), activation = 'relu')) # convolution layer 2\n",
    "model.add(MaxPooling2D(pool_size = (2,2))) # pooling the data once again\n",
    "model.add(Flatten()) # flattening the data\n",
    "model.add(Dropout(0.25)) # performing drop out to regularize the data\n",
    "model.add(Dense(100, activation = 'relu')) # applying ReLu activation function to the data\n",
    "model.add(Dense(10, activation = 'softmax')) # applying softmax activation function to the data"
   ]
  },
  {
   "cell_type": "markdown",
   "metadata": {
    "id": "7yYGivybFQss"
   },
   "source": [
    "Following steps have been taken to build up the layers for convolutional neural network.\n",
    "\n",
    "Steps:\n",
    "1. Add a convolution layer with 1 input layer and 32 output channels. I set the Kernel Size to be 5 by 5, which is the dimensions of the 2D convolution window. The activation function in this case is labeled as ReLu.\n",
    "2. Next, I use a 2 by 2 max pooling to reduce the spatial dimensions of the output from the previous convolution layer step\n",
    "3. Add another convolution layer with 32 input layer and 64 output channels. I also set the Kernel Size to be 5 by 5, which again is the dimensions of the 2D convolution window. The activation function in this case is once again labeled as ReLu.\n",
    "4. Next, I use a 2 by 2 max pooling again to reduce the spatial dimensions of the output from the previous convolution layer step\n",
    "5. After applying all those convolution layers, I need to flatten the data so that it can be passed into the next layers so that the network can be narrowed down into categorizing the image into one of the 10 number categories\n",
    "6. I apply a dropout function with 25% probability of dropping to reduce overfitting between the layers\n",
    "7. The dense layer that comes up next condenses the data into the size of 100 using the ReLu activation function\n",
    "8. The last layer, another dense layer, condenses the data into the size of 10 using the SoftMax activation function so that images can categorized into one of the ten numbers (0 to 9)"
   ]
  },
  {
   "cell_type": "code",
   "execution_count": null,
   "metadata": {
    "colab": {
     "base_uri": "https://localhost:8080/"
    },
    "id": "ocEZAD8MBi_J",
    "outputId": "623256bc-0b94-470b-b747-25ae4d4a3ff8"
   },
   "outputs": [
    {
     "name": "stdout",
     "output_type": "stream",
     "text": [
      "Model: \"sequential\"\n",
      "_________________________________________________________________\n",
      " Layer (type)                Output Shape              Param #   \n",
      "=================================================================\n",
      " conv2d (Conv2D)             (None, 24, 24, 32)        832       \n",
      "                                                                 \n",
      " max_pooling2d (MaxPooling2D  (None, 12, 12, 32)       0         \n",
      " )                                                               \n",
      "                                                                 \n",
      " conv2d_1 (Conv2D)           (None, 8, 8, 64)          51264     \n",
      "                                                                 \n",
      " max_pooling2d_1 (MaxPooling  (None, 4, 4, 64)         0         \n",
      " 2D)                                                             \n",
      "                                                                 \n",
      " flatten (Flatten)           (None, 1024)              0         \n",
      "                                                                 \n",
      " dropout (Dropout)           (None, 1024)              0         \n",
      "                                                                 \n",
      " dense (Dense)               (None, 100)               102500    \n",
      "                                                                 \n",
      " dense_1 (Dense)             (None, 10)                1010      \n",
      "                                                                 \n",
      "=================================================================\n",
      "Total params: 155,606\n",
      "Trainable params: 155,606\n",
      "Non-trainable params: 0\n",
      "_________________________________________________________________\n"
     ]
    }
   ],
   "source": [
    "model.summary()"
   ]
  },
  {
   "cell_type": "markdown",
   "metadata": {},
   "source": [
    "### Compile the model with loss as categorical cross-entropy and adam optimizers. Use accuracy as the metric for evaluation"
   ]
  },
  {
   "cell_type": "code",
   "execution_count": null,
   "metadata": {
    "id": "w_6_t6SlBoOQ"
   },
   "outputs": [],
   "source": [
    "model.compile(loss = 'categorical_crossentropy',\n",
    "             optimizer = 'adam',\n",
    "             metrics = ['accuracy'])"
   ]
  },
  {
   "cell_type": "markdown",
   "metadata": {
    "id": "rNWcqdNjK3Q_"
   },
   "source": [
    "Inference:\n",
    "\n",
    "* We have utilized a categorical cross entropy loss function to have a better understand how well this convolutional neural network performed the task of digit recognition. \n",
    "* We have used cross entropy since I am dealing with a multi class classification."
   ]
  },
  {
   "cell_type": "code",
   "execution_count": null,
   "metadata": {
    "id": "ZEs2JC2cBs7o"
   },
   "outputs": [],
   "source": [
    "# Keras is expecting 4 dimensions so this will expand the dimensions\n",
    "# categorizing the data into the 10 numbers in the dataset\n",
    "train_X_Inflated = np.expand_dims(train_X, axis = 3)"
   ]
  },
  {
   "cell_type": "markdown",
   "metadata": {},
   "source": [
    "### Fit and evaluate the model. Print the loss and accuracy for the test data"
   ]
  },
  {
   "cell_type": "code",
   "execution_count": null,
   "metadata": {
    "colab": {
     "base_uri": "https://localhost:8080/"
    },
    "id": "5xjhkNTmDHVP",
    "outputId": "4dbcecb7-5f5d-4c01-c318-8c37e31c0fc8"
   },
   "outputs": [
    {
     "name": "stdout",
     "output_type": "stream",
     "text": [
      "Epoch 1/10\n",
      "60/60 [==============================] - 12s 40ms/step - loss: 3.7458 - accuracy: 0.6205\n",
      "Epoch 2/10\n",
      "60/60 [==============================] - 2s 40ms/step - loss: 0.2958 - accuracy: 0.9098\n",
      "Epoch 3/10\n",
      "60/60 [==============================] - 2s 40ms/step - loss: 0.1738 - accuracy: 0.9468\n",
      "Epoch 4/10\n",
      "60/60 [==============================] - 2s 40ms/step - loss: 0.1291 - accuracy: 0.9602\n",
      "Epoch 5/10\n",
      "60/60 [==============================] - 2s 40ms/step - loss: 0.1035 - accuracy: 0.9681\n",
      "Epoch 6/10\n",
      "60/60 [==============================] - 2s 40ms/step - loss: 0.0889 - accuracy: 0.9725\n",
      "Epoch 7/10\n",
      "60/60 [==============================] - 2s 40ms/step - loss: 0.0776 - accuracy: 0.9759\n",
      "Epoch 8/10\n",
      "60/60 [==============================] - 2s 40ms/step - loss: 0.0706 - accuracy: 0.9776\n",
      "Epoch 9/10\n",
      "60/60 [==============================] - 2s 40ms/step - loss: 0.0632 - accuracy: 0.9795\n",
      "Epoch 10/10\n",
      "60/60 [==============================] - 2s 40ms/step - loss: 0.0580 - accuracy: 0.9819\n"
     ]
    },
    {
     "data": {
      "text/plain": [
       "<keras.callbacks.History at 0x7f98308f74d0>"
      ]
     },
     "execution_count": 10,
     "metadata": {},
     "output_type": "execute_result"
    }
   ],
   "source": [
    "# fitting the CNN model to our training data\n",
    "model.fit(train_X_Inflated, train_y_matrix, epochs = 10, batch_size = 1000)"
   ]
  },
  {
   "cell_type": "markdown",
   "metadata": {
    "id": "pVDLmn-WbcOT"
   },
   "source": [
    "Inferences: \n",
    "* We have fitted the training data to the convolutional neural network in this step. \n",
    "* We have included 10 epochs, which is running the entire model over the training data 10 times to increase the end accuracy of the model. We have included a batch size of 1000."
   ]
  },
  {
   "cell_type": "code",
   "execution_count": null,
   "metadata": {
    "id": "5vd2_EC_De6s"
   },
   "outputs": [],
   "source": [
    "# Keras is expecting 4 dimensions so this will expand the dimensions\n",
    "test_X_inflated = np.expand_dims(test_X, axis = 3)\n",
    "test_y_matrix = to_categorical(test_y, num_classes = 10)"
   ]
  },
  {
   "cell_type": "markdown",
   "metadata": {
    "id": "998XMY34cpZG"
   },
   "source": [
    "In this step, we have expanded the dimensions of the test set x and updated the test set y to one-hot categorical. These are the necessary conversions required to run them through the model."
   ]
  },
  {
   "cell_type": "code",
   "execution_count": null,
   "metadata": {
    "colab": {
     "base_uri": "https://localhost:8080/"
    },
    "id": "nv3AWGb6H67J",
    "outputId": "5c912882-9468-4abe-9574-c433a461e520"
   },
   "outputs": [
    {
     "name": "stdout",
     "output_type": "stream",
     "text": [
      "y_train shape: (60000, 10)\n",
      "x_train shape: (60000, 28, 28, 1)\n",
      "y_test shape: (10000, 10)\n",
      "x_test shape: (10000, 28, 28, 1)\n"
     ]
    }
   ],
   "source": [
    "# gathering the predictions\n",
    "predict_x=model.predict(test_X_inflated) \n",
    "classes_x=np.argmax(predict_x,axis=1)\n",
    "\n",
    "print(\"y_train shape: {}\".format(np.shape(train_y_matrix)))\n",
    "print(\"x_train shape: {}\".format(np.shape(train_X_Inflated)))\n",
    "\n",
    "print(\"y_test shape: {}\".format(np.shape(test_y_matrix)))\n",
    "print(\"x_test shape: {}\".format(np.shape(test_X_inflated)))"
   ]
  },
  {
   "cell_type": "markdown",
   "metadata": {
    "id": "7rRawurbc4Nv"
   },
   "source": [
    "In this step we have made the predictions by utilizing the inflated test x set."
   ]
  },
  {
   "cell_type": "markdown",
   "metadata": {},
   "source": [
    "### Evaluating the model"
   ]
  },
  {
   "cell_type": "code",
   "execution_count": null,
   "metadata": {
    "colab": {
     "base_uri": "https://localhost:8080/"
    },
    "id": "U5bhOGKFIxfb",
    "outputId": "8b84288d-ca6d-4e98-a231-eeae847f488c"
   },
   "outputs": [
    {
     "name": "stdout",
     "output_type": "stream",
     "text": [
      "313/313 [==============================] - 1s 4ms/step - loss: 0.0368 - accuracy: 0.9871\n",
      "Loss: 0.0368431992828846\n",
      "Accuracy: 0.9871000051498413\n"
     ]
    }
   ],
   "source": [
    "# evaluate the accuracy and loss of the CNN model\n",
    "evaluate = model.evaluate(test_X_inflated, test_y_matrix)\n",
    "print(\"Loss: {}\".format(evaluate[0]))\n",
    "print(\"Accuracy: {}\".format(evaluate[1]))"
   ]
  },
  {
   "cell_type": "markdown",
   "metadata": {
    "id": "Apxi3_xodB06"
   },
   "source": [
    "Inferences: \n",
    "* By using the evaluation function of model, we found the accuracy to be 98.98% accurate. There was a loss of 0.03968."
   ]
  },
  {
   "cell_type": "markdown",
   "metadata": {
    "id": "V2sCdOp6JT8Q"
   },
   "source": [
    "### Comparing Results to Predictions"
   ]
  },
  {
   "cell_type": "code",
   "execution_count": null,
   "metadata": {
    "colab": {
     "base_uri": "https://localhost:8080/"
    },
    "id": "2qeEC-WuJTb4",
    "outputId": "c0d70371-f1c7-4618-f261-005d6eb41039"
   },
   "outputs": [
    {
     "name": "stdout",
     "output_type": "stream",
     "text": [
      "[7 2 1 ... 4 5 6]\n",
      "[7 2 1 ... 4 5 6]\n"
     ]
    }
   ],
   "source": [
    "print(classes_x)\n",
    "tempList = []\n",
    "\n",
    "#this loop iterates through y_test and converts a format so we can compare to our predictions\n",
    "for row in test_y_matrix:\n",
    "    tempClass = np.argmax(row)\n",
    "    tempList.append(tempClass)\n",
    "\n",
    "\n",
    "test_y_Classes = np.array(tempList)"
   ]
  },
  {
   "cell_type": "markdown",
   "metadata": {
    "id": "uKk2-DhFdRli"
   },
   "source": [
    "Inferences: \n",
    "* We have converted the test y set so it can be compared to the predictions made."
   ]
  },
  {
   "cell_type": "code",
   "execution_count": null,
   "metadata": {
    "id": "8i1Rl2SUJiP3"
   },
   "outputs": [],
   "source": [
    "wrongPredictionIndices = []\n",
    "i = 0\n",
    "\n",
    "for actual, prediction in zip(test_y_Classes, classes_x):\n",
    "    if actual != prediction:\n",
    "        wrongPredictionIndices.append(i)\n",
    "    i = i + 1\n",
    "\n",
    "# these are the ten of indices of all the wrong predictions done by CNN\n",
    "wrongPredictionIndices[:10]"
   ]
  },
  {
   "cell_type": "markdown",
   "metadata": {
    "id": "FrOtL8qqdij5"
   },
   "source": [
    "Finally we collected all the indices of the wrongfully made predictions and presented them in the format of the array."
   ]
  },
  {
   "cell_type": "markdown",
   "metadata": {
    "id": "Hl_5pyl9uELd"
   },
   "source": [
    "**Accuracy Table**\n",
    "\n",
    "|Model | Accuracy |\n",
    "|------|----------|\n",
    "|**SVM**   | 93.76% |\n",
    "|**CNN**   | 98.88% |"
   ]
  },
  {
   "cell_type": "markdown",
   "metadata": {
    "id": "RlNUezEsLe1z"
   },
   "source": [
    "# Conclusion\n",
    "Of the two models we built for the MNIST dataset ( SVM, and CNN), \n",
    "\n",
    "* CNN had the highest accuracy at 98.9%. \n",
    "* In addition, while SVM was very slow to complete and runs ever slower as dataset size increases, CNN was quick to execute.\n",
    "\n",
    "Therefore, the model that performed the best on this dataset was CNN.\n",
    "\n"
   ]
  },
  {
   "cell_type": "markdown",
   "metadata": {
    "id": "c0h7OkApQtcZ"
   },
   "source": [
    "# THANK YOU!"
   ]
  }
 ],
 "metadata": {
  "accelerator": "GPU",
  "colab": {
   "collapsed_sections": [],
   "name": "Project Notebook",
   "provenance": []
  },
  "kernelspec": {
   "display_name": "Python 3",
   "language": "python",
   "name": "python3"
  },
  "language_info": {
   "codemirror_mode": {
    "name": "ipython",
    "version": 3
   },
   "file_extension": ".py",
   "mimetype": "text/x-python",
   "name": "python",
   "nbconvert_exporter": "python",
   "pygments_lexer": "ipython3",
   "version": "3.7.6"
  },
  "toc": {
   "base_numbering": 1,
   "nav_menu": {},
   "number_sections": true,
   "sideBar": true,
   "skip_h1_title": false,
   "title_cell": "Table of Contents",
   "title_sidebar": "Contents",
   "toc_cell": false,
   "toc_position": {},
   "toc_section_display": true,
   "toc_window_display": false
  }
 },
 "nbformat": 4,
 "nbformat_minor": 1
}
